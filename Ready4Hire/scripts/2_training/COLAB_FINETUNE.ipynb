{
 "cells": [
  {
   "cell_type": "markdown",
   "id": "915ccadd",
   "metadata": {},
   "source": [
    "# 🚀 Ready4Hire Fine-tuning en Google Colab\n",
    "\n",
    "**IMPORTANTE**: Activar GPU en Colab\n",
    "- Runtime → Change runtime type → Hardware accelerator → GPU (T4)\n",
    "\n",
    "## Paso 1: Instalar dependencias"
   ]
  },
  {
   "cell_type": "code",
   "execution_count": null,
   "id": "7ad0a9c1",
   "metadata": {},
   "outputs": [],
   "source": [
    "# Instalar Unsloth\n",
    "!pip install unsloth\n",
    "!pip install --upgrade torch transformers datasets trl"
   ]
  },
  {
   "cell_type": "markdown",
   "id": "b2be81ab",
   "metadata": {},
   "source": [
    "## Paso 2: Subir archivos de dataset\n",
    "\n",
    "Sube estos archivos desde tu computadora:\n",
    "- `ready4hire_dataset_train.jsonl`\n",
    "- `ready4hire_dataset_val.jsonl`\n",
    "\n",
    "O conéctalos desde Google Drive"
   ]
  },
  {
   "cell_type": "code",
   "execution_count": null,
   "id": "7b402d14",
   "metadata": {},
   "outputs": [],
   "source": [
    "# Montar Google Drive (opcional)\n",
    "from google.colab import drive\n",
    "drive.mount('/content/drive')"
   ]
  },
  {
   "cell_type": "markdown",
   "id": "1ad7a417",
   "metadata": {},
   "source": [
    "## Paso 3: Fine-tuning"
   ]
  },
  {
   "cell_type": "code",
   "execution_count": null,
   "id": "565b9198",
   "metadata": {},
   "outputs": [],
   "source": [
    "from unsloth import FastLanguageModel\n",
    "import torch\n",
    "from datasets import load_dataset\n",
    "from trl import SFTTrainer\n",
    "from transformers import TrainingArguments\n",
    "\n",
    "# Configuración\n",
    "max_seq_length = 2048\n",
    "dtype = None  # Auto-detect\n",
    "load_in_4bit = True\n",
    "\n",
    "# Cargar modelo\n",
    "model, tokenizer = FastLanguageModel.from_pretrained(\n",
    "    model_name=\"unsloth/llama-3-8b-bnb-4bit\",\n",
    "    max_seq_length=max_seq_length,\n",
    "    dtype=dtype,\n",
    "    load_in_4bit=load_in_4bit,\n",
    ")\n",
    "\n",
    "# Aplicar LoRA\n",
    "model = FastLanguageModel.get_peft_model(\n",
    "    model,\n",
    "    r=16,\n",
    "    target_modules=[\"q_proj\", \"k_proj\", \"v_proj\", \"o_proj\",\n",
    "                    \"gate_proj\", \"up_proj\", \"down_proj\"],\n",
    "    lora_alpha=16,\n",
    "    lora_dropout=0,\n",
    "    bias=\"none\",\n",
    "    use_gradient_checkpointing=\"unsloth\",\n",
    "    random_state=3407,\n",
    ")\n",
    "\n",
    "print(\"✓ Modelo cargado con LoRA\")"
   ]
  },
  {
   "cell_type": "code",
   "execution_count": null,
   "id": "1ebdea25",
   "metadata": {},
   "outputs": [],
   "source": [
    "# Cargar dataset\n",
    "dataset = load_dataset(\n",
    "    \"json\",\n",
    "    data_files={\n",
    "        \"train\": \"ready4hire_dataset_train.jsonl\",\n",
    "        \"validation\": \"ready4hire_dataset_val.jsonl\"\n",
    "    }\n",
    ")\n",
    "\n",
    "print(f\"Train: {len(dataset['train'])} ejemplos\")\n",
    "print(f\"Val: {len(dataset['validation'])} ejemplos\")"
   ]
  },
  {
   "cell_type": "code",
   "execution_count": null,
   "id": "f2661ddb",
   "metadata": {},
   "outputs": [],
   "source": [
    "# Formatear datos\n",
    "def formatting_prompts_func(examples):\n",
    "    instructions = examples[\"instruction\"]\n",
    "    inputs = examples[\"input\"]\n",
    "    outputs = examples[\"output\"]\n",
    "    texts = []\n",
    "    for instruction, input_text, output in zip(instructions, inputs, outputs):\n",
    "        text = f\"\"\"### Instruction:\n",
    "{instruction}\n",
    "\n",
    "### Input:\n",
    "{input_text}\n",
    "\n",
    "### Response:\n",
    "{output}\"\"\"\n",
    "        texts.append(text)\n",
    "    return {\"text\": texts}\n",
    "\n",
    "dataset = dataset.map(formatting_prompts_func, batched=True)"
   ]
  },
  {
   "cell_type": "code",
   "execution_count": null,
   "id": "26e8f4cb",
   "metadata": {},
   "outputs": [],
   "source": [
    "# Entrenar\n",
    "trainer = SFTTrainer(\n",
    "    model=model,\n",
    "    tokenizer=tokenizer,\n",
    "    train_dataset=dataset[\"train\"],\n",
    "    eval_dataset=dataset[\"validation\"],\n",
    "    dataset_text_field=\"text\",\n",
    "    max_seq_length=max_seq_length,\n",
    "    dataset_num_proc=2,\n",
    "    packing=False,\n",
    "    args=TrainingArguments(\n",
    "        per_device_train_batch_size=2,\n",
    "        gradient_accumulation_steps=4,\n",
    "        warmup_steps=5,\n",
    "        num_train_epochs=3,\n",
    "        learning_rate=2e-4,\n",
    "        fp16=not torch.cuda.is_bf16_supported(),\n",
    "        bf16=torch.cuda.is_bf16_supported(),\n",
    "        logging_steps=1,\n",
    "        optim=\"adamw_8bit\",\n",
    "        weight_decay=0.01,\n",
    "        lr_scheduler_type=\"linear\",\n",
    "        seed=3407,\n",
    "        output_dir=\"outputs\",\n",
    "        evaluation_strategy=\"epoch\",\n",
    "        save_strategy=\"epoch\",\n",
    "        load_best_model_at_end=True,\n",
    "    ),\n",
    ")\n",
    "\n",
    "print(\"Iniciando entrenamiento...\")\n",
    "trainer_stats = trainer.train()\n",
    "print(\"✓ Entrenamiento completado\")"
   ]
  },
  {
   "cell_type": "markdown",
   "id": "153dfc1f",
   "metadata": {},
   "source": [
    "## Paso 4: Exportar modelo"
   ]
  },
  {
   "cell_type": "code",
   "execution_count": null,
   "id": "b500bedc",
   "metadata": {},
   "outputs": [],
   "source": [
    "# Exportar a GGUF (formato Ollama)\n",
    "model.save_pretrained_gguf(\n",
    "    \"ready4hire-finetuned\",\n",
    "    tokenizer,\n",
    "    quantization_method=\"q4_k_m\"\n",
    ")\n",
    "\n",
    "print(\"✓ Modelo exportado a GGUF\")\n",
    "print(\"Descarga el archivo .gguf y cópialo a: models/ready4hire-finetuned/\")"
   ]
  },
  {
   "cell_type": "markdown",
   "id": "f5cd36b3",
   "metadata": {},
   "source": [
    "## Paso 5: Descargar modelo\n",
    "\n",
    "1. Descarga el archivo `.gguf` generado\n",
    "2. Cópialo a tu computadora: `models/ready4hire-finetuned/`\n",
    "3. Continúa con Fase 3: `python3 scripts/3_deployment/step1_import_to_ollama.py`"
   ]
  }
 ],
 "metadata": {
  "language_info": {
   "name": "python"
  }
 },
 "nbformat": 4,
 "nbformat_minor": 5
}
